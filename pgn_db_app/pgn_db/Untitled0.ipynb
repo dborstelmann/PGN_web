{
 "metadata": {
  "name": "",
  "signature": "sha256:c13c303716a0695cca97e17e152bd3bdb43e03e79cd7bb743ad38bcd19142f9f"
 },
 "nbformat": 3,
 "nbformat_minor": 0,
 "worksheets": [
  {
   "cells": [
    {
     "cell_type": "code",
     "collapsed": false,
     "input": [
      "import requests"
     ],
     "language": "python",
     "metadata": {},
     "outputs": [],
     "prompt_number": 1
    },
    {
     "cell_type": "code",
     "collapsed": false,
     "input": [
      "response = requests.get('http://www.linkedin.com/pub/darius-calliet/71/52/748')\n",
      "print response.text"
     ],
     "language": "python",
     "metadata": {},
     "outputs": [
      {
       "output_type": "stream",
       "stream": "stdout",
       "text": [
        "<html><head>\n",
        "<script type=\"text/javascript\">\n",
        "window.onload = function() {\n",
        "  var newLocation = \"\";\n",
        "  if (window.location.protocol == \"http:\") {\n",
        "    var cookies = document.cookie.split(\"; \");\n",
        "    for (var i = 0; i < cookies.length; ++i) {\n",
        "      if ((cookies[i].indexOf(\"sl=\") == 0) && (cookies[i].length > 3)) {\n",
        "        newLocation = \"https:\" + window.location.href.substring(window.location.protocol.length);\n",
        "      }\n",
        "    }\n",
        "  }\n",
        "\n",
        "  if (newLocation.length == 0) {\n",
        "    var domain = location.host;\n",
        "    var newDomainIndex = 0;\n",
        "    if (domain.substr(0, 6) == \"touch.\") {\n",
        "      newDomainIndex = 6;\n",
        "    }\n",
        "    else if (domain.substr(0, 7) == \"tablet.\") {\n",
        "      newDomainIndex = 7;\n",
        "    }\n",
        "    if (newDomainIndex) {\n",
        "      domain = domain.substr(newDomainIndex);\n",
        "    }\n",
        "    newLocation = \"https://\" + domain +  \"/uas/login?trk=sentinel_org_block&session_redirect=\" + encodeURIComponent(window.location)\n",
        "  }\n",
        "  window.location.href = newLocation;\n",
        "}\n",
        "</script>\n",
        "</head></html>\n",
        "\n"
       ]
      }
     ],
     "prompt_number": 4
    },
    {
     "cell_type": "code",
     "collapsed": false,
     "input": [],
     "language": "python",
     "metadata": {},
     "outputs": []
    }
   ],
   "metadata": {}
  }
 ]
}