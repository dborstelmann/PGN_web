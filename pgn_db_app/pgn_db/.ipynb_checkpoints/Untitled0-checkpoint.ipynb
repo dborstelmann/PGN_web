{
 "metadata": {
  "name": "",
  "signature": "sha256:d0d38f50e01421d62ddc58164c569538e7b144a1131b9a86343bf5daf722a8cb"
 },
 "nbformat": 3,
 "nbformat_minor": 0,
 "worksheets": []
}